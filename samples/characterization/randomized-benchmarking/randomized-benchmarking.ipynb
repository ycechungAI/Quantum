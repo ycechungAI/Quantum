{
 "cells": [
  {
   "cell_type": "markdown",
   "metadata": {},
   "source": [
    "# Randomized Benchmarking with Q# and Python"
   ]
  },
  {
   "cell_type": "markdown",
   "metadata": {},
   "source": [
    "**NB**: This notebook requires additional packages to analyze randomized benchmarking results offline. Dependencies for this sample can be installed as a new virtual environment by using `conda`:\n",
    "\n",
    "```sh\n",
    "conda env create -f environment.yml\n",
    "conda activate randomized-benchmarking\n",
    "```\n",
    "\n",
    "$\\newcommand{\\Tr}{\\operatorname{Tr}}$"
   ]
  },
  {
   "cell_type": "markdown",
   "metadata": {},
   "source": [
    "## Abstract ##"
   ]
  },
  {
   "cell_type": "markdown",
   "metadata": {},
   "source": [
    "This sample demonstrates how to use Q# and Python together to simulate randomized benchmarking, a common protocol for characterizing quantum systems. In particular, this sample shows how to generate random sequences within your quantum program, analyze the results offline, and how to use online statistical inference to adaptively choose RB experiments.\n",
    "\n",
    "> **NOTE**: This sample is somewhat more advanced than most, and assumes familiarity with open quantum systems as well as some statistics knowledge.\n",
    "> If you would like a refresher on these topics, please check out the [**process-tomography**](../process-tomography/README.md) and [**phase-estimation**](../phase-estimation/README.md) samples."
   ]
  },
  {
   "cell_type": "markdown",
   "metadata": {},
   "source": [
    "## Preamble ##"
   ]
  },
  {
   "cell_type": "markdown",
   "metadata": {},
   "source": [
    "We can enable Q# support in Python by importing the `qsharp` package."
   ]
  },
  {
   "cell_type": "code",
   "execution_count": 1,
   "metadata": {},
   "outputs": [
    {
     "name": "stdout",
     "output_type": "stream",
     "text": [
      "Preparing Q# environment...\n"
     ]
    }
   ],
   "source": [
    "import qsharp"
   ]
  },
  {
   "cell_type": "markdown",
   "metadata": {},
   "source": [
    "We'll also be using numerics in this sample, so we import NumPy as well."
   ]
  },
  {
   "cell_type": "code",
   "execution_count": 2,
   "metadata": {},
   "outputs": [],
   "source": [
    "import numpy as np"
   ]
  },
  {
   "cell_type": "markdown",
   "metadata": {},
   "source": [
    "Next, we import plotting support and the QuTiP library, since these will be helpful to us in manipulating the quantum objects returned by the quantum process tomography functionality that we call later."
   ]
  },
  {
   "cell_type": "code",
   "execution_count": 3,
   "metadata": {},
   "outputs": [],
   "source": [
    "%matplotlib inline\n",
    "import matplotlib.pyplot as plt"
   ]
  },
  {
   "cell_type": "code",
   "execution_count": 4,
   "metadata": {},
   "outputs": [],
   "source": [
    "import qutip as qt\n",
    "qt.settings.colorblind_safe = True"
   ]
  },
  {
   "cell_type": "markdown",
   "metadata": {},
   "source": [
    "Finally, to analyze randomized benchmarking results offline, we'll be using the [QInfer](http://qinfer.org) library, so we go on and import it here."
   ]
  },
  {
   "cell_type": "code",
   "execution_count": 5,
   "metadata": {},
   "outputs": [
    {
     "name": "stderr",
     "output_type": "stream",
     "text": [
      "ERROR:duecredit:Failed to import duecredit due to No module named 'duecredit'\n",
      "C:\\Users\\cgran\\Anaconda3\\envs\\iqs-dev\\lib\\site-packages\\IPython\\parallel.py:12: ShimWarning: The `IPython.parallel` package has been deprecated since IPython 4.0. You should import from ipyparallel instead.\n",
      "  warn(\"The `IPython.parallel` package has been deprecated since IPython 4.0. \"\n",
      "C:\\Users\\cgran\\Anaconda3\\envs\\iqs-dev\\lib\\site-packages\\qinfer-1.0-py3.8.egg\\qinfer\\parallel.py:61: UserWarning: Could not import IPython parallel. Parallelization support will be disabled.\n"
     ]
    }
   ],
   "source": [
    "import qinfer as qi"
   ]
  },
  {
   "cell_type": "markdown",
   "metadata": {},
   "source": [
    "## Randomized Benchmarking ##"
   ]
  },
  {
   "cell_type": "markdown",
   "metadata": {},
   "source": [
    "Consider the problem of learning the noise acting on an $n$-qubit register. Without any prior assumptions, density operators on that register are matrices of $2^n \\times 2^n$ complex numbers, such that noise channels acting on those density operators can be expressed as $4^n \\times 4^n$ complex numbers. Even for a two-qubit register, it takes 256 complex numbers to write down a noise process acting on that register.\n",
    "\n",
    "This quickly gets out of hand, such that using tomography to learn noise quickly becomes infeasible as systems grow in size. Moreover, process tomography rests on the critical assumption that state preparation and measurement (also known as \"_SPAM_\") are either perfect, or at least only subject to noise that itself is fully characterized. If this assumption is violated, SPAM errors can be conflated with the noise being estimated and vice versa.\n",
    "\n",
    "One way to solve this is to use a technique known as _randomized benchmarking_, which uses a total of three real numbers to parameterize noise models instead of a tomographically complete description. By choosing sequences of gates of different lengths, randomized benchmarking can also deal with state preparation and measurement errors — errors due to gates grow with sequence lengths, while state preparation and measurement errors appear as constant offsets.\n",
    "\n",
    "> **NOTE**: Though randomized benchmarking is works well for larger systems, for simplicitly this sample considers the single-qubit case."
   ]
  },
  {
   "cell_type": "markdown",
   "metadata": {},
   "source": [
    "### Sequence generation"
   ]
  },
  {
   "cell_type": "markdown",
   "metadata": {},
   "source": [
    "Concretely, randomized benchmarking works by randomly choosing sequences of _Clifford operations_, those operations that map Pauli operations to other Pauli operations. In Q#, we can draw random elements of the single-qubit Clifford group by using the `DrawRandomSingleQubitClifford` operation.\n",
    "\n",
    "> **💡 TIP**: The `%%qsharp` magic command tells IPython to treat that cell as Q# and to pass it to the Q# compiler, adding any new operations as Python variables.\n",
    "> For more info, see the [Python interoperability sample](../../interoperability/python/)."
   ]
  },
  {
   "cell_type": "code",
   "execution_count": 6,
   "metadata": {},
   "outputs": [],
   "source": [
    "%%qsharp\n",
    "open Microsoft.Quantum.Arrays;\n",
    "open Microsoft.Quantum.Random;\n",
    "open Microsoft.Quantum.Synthesis;\n",
    "\n",
    "operation DrawRandomSingleQubitRBSequence(nOperators : Int) : SingleQubitClifford[] {\n",
    "    return DrawMany(DrawRandomSingleQubitClifford, nOperators, ());\n",
    "}"
   ]
  },
  {
   "cell_type": "code",
   "execution_count": 7,
   "metadata": {},
   "outputs": [
    {
     "data": {
      "text/plain": [
       "[(0, 0, 0, 0),\n",
       " (0, 2, 0, 4),\n",
       " (1, 3, 1, 0),\n",
       " (2, 0, 0, 4),\n",
       " (0, 2, 0, 6),\n",
       " (0, 3, 0, 1),\n",
       " (2, 3, 0, 3),\n",
       " (2, 0, 1, 4),\n",
       " (1, 0, 1, 7),\n",
       " (2, 3, 0, 3)]"
      ]
     },
     "execution_count": 7,
     "metadata": {},
     "output_type": "execute_result"
    }
   ],
   "source": [
    "DrawRandomSingleQubitRBSequence.simulate(nOperators=10)"
   ]
  },
  {
   "cell_type": "markdown",
   "metadata": {},
   "source": [
    "Each of the tuples in the above list represents a different Clifford operation, using the notation defined by the [`Microsoft.Quantum.Synthesis.SingleQubitClifford` user-defined type](https://docs.microsoft.com/qsharp/api/qsharp/microsoft.quantum.synthesis.singlequbitclifford).\n",
    "\n",
    "> **📝 NOTE**: In randomized benchmarking, the term \"sequence length\" generally refers to the number of distinct Clifford operations performed in a given sequence. For instance, the tuple `(0, 1, 1, 0)` refers to the operation `BoundCA([X, S])`. For more details, see the documentation for the [`Apply1C` operation](https://docs.microsoft.com/qsharp/api/qsharp/microsoft.quantum.synthesis.apply1c) and the [`BoundCA` function](https://docs.microsoft.com/qsharp/api/qsharp/microsoft.quantum.canon.boundca).\n",
    "\n",
    "In practice, however, randomized benchmarking requires that each different sequence multiplies to identity (written as the tuple `(0, 0, 0, 0)`), but this isn't true in general for the sequences chosen by the `DrawRandomSingleQubitRBSequence` that we defined above."
   ]
  },
  {
   "cell_type": "code",
   "execution_count": 8,
   "metadata": {},
   "outputs": [],
   "source": [
    "%%qsharp\n",
    "\n",
    "operation CheckThatRandomSequenceMultipliesToIdentity(nOperators : Int) : Unit {\n",
    "    let seq = DrawRandomSingleQubitRBSequence(nOperators);\n",
    "\n",
    "    // Fold uses a function representing a binary operator to reduce\n",
    "    // a Q# array to a single value. In this case, we use the FlippedCall\n",
    "    // function below to implement the opposite product 𝑎 ×ₒₚ 𝑏 ≔ 𝑏 × 𝑎.\n",
    "    // This allows us to multiply a sequence \"backwards,\" since the matrix\n",
    "    // product 𝐵𝐴 represents applying the operation A and then the operation B.\n",
    "    let product = Fold(FlippedCall(Times1C, _, _), Identity1C(), seq);\n",
    "    \n",
    "    // At this point, we check if the product was the identity (0, 0, 0, 0),\n",
    "    // and if not, then we can report the actual product.\n",
    "    EqualityFact1C(Identity1C(), product, \"Random sequence did not multiply to identity.\");\n",
    "}\n",
    "    \n",
    "function FlippedCall<'TLeft, 'TRight, 'TOutput>(\n",
    "    fn : (('TLeft, 'TRight) -> 'TOutput),\n",
    "    right : 'TRight,\n",
    "    left : 'TLeft\n",
    ")\n",
    ": 'TOutput {\n",
    "    return fn(left, right);\n",
    "}"
   ]
  },
  {
   "cell_type": "code",
   "execution_count": 9,
   "metadata": {},
   "outputs": [
    {
     "data": {
      "text/html": [
       "\r\n",
       "                    <details>\r\n",
       "                        <summary>\r\n",
       "                            Unhandled exception of type Microsoft.Quantum.Simulation.Core.ExecutionFailException: Random sequence did not multiply to identity.\n",
       "\tExpected:\tSingleQubitClifford((2, 0, 1, 1))\n",
       "\tActual:\tSingleQubitClifford((0, 0, 0, 0))\r\n",
       "                        </summary>\r\n",
       "                        <table>\r\n",
       "                            \r\n",
       "                    <thead>\r\n",
       "                        <tr>\r\n",
       "                            <th>Source</th>\r\n",
       "                            <th>Callable</th>\r\n",
       "                        </tr>\r\n",
       "                    </thead>\r\n",
       "\r\n",
       "                    <tbody>\r\n",
       "                        \r\n",
       "                        <tr>\r\n",
       "                            <td>(notebook)</td>\r\n",
       "                            <td>CheckThatRandomSequenceMultipliesToIdentity</td>\r\n",
       "                        </tr>\r\n",
       "                    \r\n",
       "                    </tbody>\r\n",
       "                \r\n",
       "                        </table>\r\n",
       "                    </details>\r\n",
       "                "
      ],
      "text/plain": [
       "Unhandled exception. Microsoft.Quantum.Simulation.Core.ExecutionFailException: Random sequence did not multiply to identity.\n",
       "\tExpected:\tSingleQubitClifford((2, 0, 1, 1))\n",
       "\tActual:\tSingleQubitClifford((0, 0, 0, 0))\r\n",
       " ---> SNIPPET.CheckThatRandomSequenceMultipliesToIdentity on C:\\snippet_.qs:line 0\r\n"
      ]
     },
     "metadata": {},
     "output_type": "display_data"
    },
    {
     "name": "stderr",
     "output_type": "stream",
     "text": [
      "Random sequence did not multiply to identity.\n",
      "\tExpected:\tSingleQubitClifford((2, 0, 1, 1))\n",
      "\tActual:\tSingleQubitClifford((0, 0, 0, 0))\r\n"
     ]
    }
   ],
   "source": [
    "CheckThatRandomSequenceMultipliesToIdentity.simulate(nOperators=10)"
   ]
  },
  {
   "cell_type": "markdown",
   "metadata": {},
   "source": [
    "We can modify the definition of DrawRandomSingleQubitRBSequence to correctly generate identity sequences by drawing one less Clifford operator and then appending the inverse of the all the other operations:"
   ]
  },
  {
   "cell_type": "code",
   "execution_count": 10,
   "metadata": {},
   "outputs": [],
   "source": [
    "%%qsharp\n",
    "\n",
    "operation DrawRandomSingleQubitRBSequence(nOperators : Int) : SingleQubitClifford[] {\n",
    "    let root = DrawMany(DrawRandomSingleQubitClifford, nOperators - 1, ());\n",
    "    let product = Fold(FlippedCall(Times1C, _, _), Identity1C(), root);\n",
    "    return root + [Inverse1C(product)];\n",
    "}"
   ]
  },
  {
   "cell_type": "markdown",
   "metadata": {},
   "source": [
    "With this new definition in place, we can verify that our random sequence generation returns identity sequences."
   ]
  },
  {
   "cell_type": "code",
   "execution_count": 11,
   "metadata": {},
   "outputs": [
    {
     "data": {
      "text/plain": [
       "()"
      ]
     },
     "execution_count": 11,
     "metadata": {},
     "output_type": "execute_result"
    }
   ],
   "source": [
    "CheckThatRandomSequenceMultipliesToIdentity.simulate(nOperators=10)"
   ]
  },
  {
   "cell_type": "markdown",
   "metadata": {},
   "source": [
    "### RB measurements"
   ]
  },
  {
   "cell_type": "markdown",
   "metadata": {},
   "source": [
    "Now that we have an operation that can randomly generate sequences that do nothing on an ideal quantum device, the core insight behind randomized benchmarking is that if we run random no-op programs on a noisy device, it's easy to see when we have an error. That is, if we prepare $\\left|{0}\\right\\rangle$ and observe anything other than `Zero` when measuring in the $Z$-basis at the end, we can conclude that we saw at least one error."
   ]
  },
  {
   "cell_type": "code",
   "execution_count": 12,
   "metadata": {},
   "outputs": [],
   "source": [
    "%%qsharp\n",
    "open Microsoft.Quantum.Measurement;\n",
    "\n",
    "operation MeasureSingleQubitRBSequence(nOperators : Int) : Result {\n",
    "    use q = Qubit();\n",
    "    let ops = DrawRandomSingleQubitRBSequence(nOperators);\n",
    "    for op in ops {\n",
    "        // The Apply1C operation takes a single-qubit Clifford operator\n",
    "        // and applies it as an operation.\n",
    "        Apply1C(op, q);\n",
    "    }\n",
    "    return MResetZ(q);\n",
    "}"
   ]
  },
  {
   "cell_type": "markdown",
   "metadata": {},
   "source": [
    "Indeed, when we simulate how this protocol would work on an ideal device using the full-state simulator, we see that we always get `Zero` back."
   ]
  },
  {
   "cell_type": "code",
   "execution_count": 13,
   "metadata": {},
   "outputs": [
    {
     "data": {
      "text/plain": [
       "0"
      ]
     },
     "execution_count": 13,
     "metadata": {},
     "output_type": "execute_result"
    }
   ],
   "source": [
    "sum(MeasureSingleQubitRBSequence.simulate(nOperators=10) for _ in range(50))"
   ]
  },
  {
   "cell_type": "markdown",
   "metadata": {},
   "source": [
    "In general, randomized benchmarking requires us to draw a new sequence for each measurement [arXiv:1404.5275](https://arxiv.org/abs/1404.5275); though some generalizations exist that relax this limitation ([arXiv:1802.00401](https://arxiv.org/abs/1802.00401)), they require more sophisticated statistical analysis such that we focus on randomized benchmarking as originally presented here.\n",
    "\n",
    "To that end, to collect multiple \"shots\" of RB, we can't pick a sequence then measure it many times, but must include a call to our sequence generation operation in our loop. Doing so, we can estimate the probability with which sequences of a given length correctly produce a result of `Zero` at the end. This probability is often called the \"_survival probability_.\""
   ]
  },
  {
   "cell_type": "code",
   "execution_count": 14,
   "metadata": {},
   "outputs": [],
   "source": [
    "%%qsharp\n",
    "\n",
    "operation MeasureSingleQubitRBSequenceLength(nOperators : Int, nSequences : Int) : Int {\n",
    "    mutable nUp = 0;\n",
    "    for idxSequence in 1..nSequences {\n",
    "        set nUp += MeasureSingleQubitRBSequence(nOperators) == Zero ? 1 | 0;\n",
    "    }\n",
    "    return nUp;\n",
    "}"
   ]
  },
  {
   "cell_type": "code",
   "execution_count": 15,
   "metadata": {},
   "outputs": [
    {
     "data": {
      "text/plain": [
       "1.0"
      ]
     },
     "execution_count": 15,
     "metadata": {},
     "output_type": "execute_result"
    }
   ],
   "source": [
    "MeasureSingleQubitRBSequenceLength.simulate(nOperators=10, nSequences=100) / 100"
   ]
  },
  {
   "cell_type": "markdown",
   "metadata": {},
   "source": [
    "As expected, the survival probability for a system without noise is 100%."
   ]
  },
  {
   "cell_type": "markdown",
   "metadata": {},
   "source": [
    "### Noise models for RB"
   ]
  },
  {
   "cell_type": "markdown",
   "metadata": {},
   "source": [
    "Of course, we want to use randomized benchmarking to study how imperfect devices are affected by noise, so let's switch from using the full-state simulator to the open systems simulator provided with the Quantum Development Kit. To do so, we'll need to provide a _noise model_ that describes the noise we want to simulate.\n",
    "\n",
    "> **TIP**: For a refresher on open systems concepts, including channels and density operators, check out https://github.com/microsoft/qsharp-runtime/blob/main/documentation/examples/open-systems-concepts.ipynb."
   ]
  },
  {
   "cell_type": "markdown",
   "metadata": {},
   "source": [
    "We start by asking the `qsharp` package for an ideal noise model, representing the case of a noiseless device. Then, we can fill in each part of the noise model with channels that we want to use to simulate each different operation."
   ]
  },
  {
   "cell_type": "code",
   "execution_count": 16,
   "metadata": {},
   "outputs": [],
   "source": [
    "noise_model = qsharp.get_noise_model_by_name('ideal')"
   ]
  },
  {
   "cell_type": "markdown",
   "metadata": {},
   "source": [
    "Using the [QuTiP library](https://qutip.org/), we can randomly choose channels from the space of all possible channels with [the `rand_super_bcsz` function](https://qutip.org/docs/latest/apidoc/functions.html#qutip.random_objects.rand_super_bcsz)."
   ]
  },
  {
   "cell_type": "code",
   "execution_count": 17,
   "metadata": {},
   "outputs": [
    {
     "data": {
      "text/latex": [
       "Quantum object: dims = [[[2], [2]], [[2], [2]]], shape = (4, 4), type = super, isherm = False\\begin{equation*}\\left(\\begin{array}{*{11}c}0.609 & (-0.006+0.003j) & (-0.006-0.003j) & 0.491\\\\(0.185+0.308j) & (0.032-0.170j) & (0.035-0.213j) & (0.221-0.074j)\\\\(0.185-0.308j) & (0.035+0.213j) & (0.032+0.170j) & (0.221+0.074j)\\\\0.391 & (0.006-0.003j) & (0.006+0.003j) & 0.509\\\\\\end{array}\\right)\\end{equation*}"
      ],
      "text/plain": [
       "Quantum object: dims = [[[2], [2]], [[2], [2]]], shape = (4, 4), type = super, isherm = False\n",
       "Qobj data =\n",
       "[[ 0.60897679+1.84314369e-18j -0.00557146+3.19611640e-03j\n",
       "  -0.00557146-3.19611640e-03j  0.49051966+1.08962318e-16j]\n",
       " [ 0.18490256+3.08259005e-01j  0.03182878-1.70194656e-01j\n",
       "   0.03455891-2.13070916e-01j  0.22083071-7.41498439e-02j]\n",
       " [ 0.18490256-3.08259005e-01j  0.03455891+2.13070916e-01j\n",
       "   0.03182878+1.70194656e-01j  0.22083071+7.41498439e-02j]\n",
       " [ 0.39102321+1.30104261e-18j  0.00557146-3.19611640e-03j\n",
       "   0.00557146+3.19611640e-03j  0.50948034+1.13515967e-16j]]"
      ]
     },
     "execution_count": 17,
     "metadata": {},
     "output_type": "execute_result"
    }
   ],
   "source": [
    "qt.rand_super_bcsz()"
   ]
  },
  {
   "cell_type": "markdown",
   "metadata": {},
   "source": [
    "In general, these channels will have very poor fidelity, so to get a more realistic noise model we can mix channels drawn from the `rand_super_bcsz` function with channels describing the ideal action of each operation."
   ]
  },
  {
   "cell_type": "code",
   "execution_count": 18,
   "metadata": {},
   "outputs": [
    {
     "data": {
      "text/plain": [
       "0.41912961921549163"
      ]
     },
     "execution_count": 18,
     "metadata": {},
     "output_type": "execute_result"
    }
   ],
   "source": [
    "qt.average_gate_fidelity(qt.rand_super_bcsz())"
   ]
  },
  {
   "cell_type": "code",
   "execution_count": 19,
   "metadata": {},
   "outputs": [],
   "source": [
    "def mix_with_bcsz(ideal, pr_success=0.99):\n",
    "    return pr_success * qt.to_super(ideal) + (1 - pr_success) * qt.rand_super_bcsz()"
   ]
  },
  {
   "cell_type": "code",
   "execution_count": 20,
   "metadata": {},
   "outputs": [
    {
     "data": {
      "text/plain": [
       "0.9942763044478301"
      ]
     },
     "execution_count": 20,
     "metadata": {},
     "output_type": "execute_result"
    }
   ],
   "source": [
    "qt.average_gate_fidelity(mix_with_bcsz(qt.qeye(2)))"
   ]
  },
  {
   "cell_type": "markdown",
   "metadata": {},
   "source": [
    "Let's use this to fill out our noise model, making sure to define what happens for each Pauli and Clifford operation."
   ]
  },
  {
   "cell_type": "code",
   "execution_count": 21,
   "metadata": {},
   "outputs": [],
   "source": [
    "noise_model.x = mix_with_bcsz(qt.sigmax())\n",
    "noise_model.y = mix_with_bcsz(qt.sigmay())\n",
    "noise_model.z = mix_with_bcsz(qt.sigmaz())\n",
    "noise_model.h = mix_with_bcsz(qt.qip.operations.hadamard_transform())\n",
    "noise_model.s = mix_with_bcsz(qt.qip.operations.phasegate(np.pi / 2))\n",
    "noise_model.s_adj = mix_with_bcsz(qt.qip.operations.phasegate(-np.pi / 2))"
   ]
  },
  {
   "cell_type": "code",
   "execution_count": 22,
   "metadata": {},
   "outputs": [],
   "source": [
    "qsharp.set_noise_model(noise_model)"
   ]
  },
  {
   "cell_type": "markdown",
   "metadata": {},
   "source": [
    "Running our RB measurements using this noise model, we note that we no longer get that every sequence at a given length returns `Zero`."
   ]
  },
  {
   "cell_type": "code",
   "execution_count": 23,
   "metadata": {},
   "outputs": [
    {
     "data": {
      "text/plain": [
       "85"
      ]
     },
     "execution_count": 23,
     "metadata": {},
     "output_type": "execute_result"
    }
   ],
   "source": [
    "MeasureSingleQubitRBSequenceLength.simulate_noise(nOperators=10, nSequences=100)"
   ]
  },
  {
   "cell_type": "markdown",
   "metadata": {},
   "source": [
    "Indeed, if we plot the number of sequence measurements that correctly return `Zero` at each length, we can confirm that as we run longer and longer sequences, the effects of the noise increase."
   ]
  },
  {
   "cell_type": "code",
   "execution_count": 24,
   "metadata": {},
   "outputs": [
    {
     "data": {
      "text/plain": [
       "array([  3,   3,   4,   5,   6,   8,  10,  13,  16,  19,  24,  30,  37,\n",
       "        45,  56,  69,  86, 106, 131, 162, 200])"
      ]
     },
     "execution_count": 24,
     "metadata": {},
     "output_type": "execute_result"
    }
   ],
   "source": [
    "seq_lens = np.logspace(np.log10(3), np.log10(200), 21).astype(int)\n",
    "seq_lens"
   ]
  },
  {
   "cell_type": "markdown",
   "metadata": {},
   "source": [
    "> **📝 NOTE**: We use exponentially spaced sequences here since longer sequences tell us more about the fidelity (that is, longer sequences depend more strongly on $p$) than shorter sequences. This allows us to both use short sequences to learn $A$ and $B$, as well as longer sequences to learn $p$. We'll see a better approach to choosing sequence lengths later when we see how to include adaptivity in our randomized benchmarking program."
   ]
  },
  {
   "cell_type": "code",
   "execution_count": 25,
   "metadata": {},
   "outputs": [],
   "source": [
    "est_pr_survival = [\n",
    "    MeasureSingleQubitRBSequenceLength.simulate_noise(nOperators=seq_len, nSequences=200) / 200\n",
    "    for seq_len in seq_lens\n",
    "]"
   ]
  },
  {
   "cell_type": "code",
   "execution_count": 26,
   "metadata": {},
   "outputs": [
    {
     "data": {
      "text/plain": [
       "Text(0, 0.5, 'Estimated survival probability')"
      ]
     },
     "execution_count": 26,
     "metadata": {},
     "output_type": "execute_result"
    },
    {
     "data": {
      "image/png": "[encoded data removed]",
      "text/plain": [
       "<Figure size 432x288 with 1 Axes>"
      ]
     },
     "metadata": {
      "needs_background": "light"
     },
     "output_type": "display_data"
    }
   ],
   "source": [
    "plt.plot(seq_lens, est_pr_survival, 'x')\n",
    "plt.ylim(0, 1)\n",
    "plt.xlabel('Sequence length')\n",
    "plt.ylabel('Estimated survival probability')"
   ]
  },
  {
   "cell_type": "markdown",
   "metadata": {},
   "source": [
    "By learning the rate at which the survival probability decays to 0.5 (all measurements are just random), we can learn how strongly noise has affected our quantum device. In the next part of this sample, we look at ways we can learn this rate."
   ]
  },
  {
   "cell_type": "markdown",
   "metadata": {},
   "source": [
    "## Inferring noise strengths from RB results"
   ]
  },
  {
   "cell_type": "markdown",
   "metadata": {},
   "source": [
    "### Curve fitting"
   ]
  },
  {
   "cell_type": "markdown",
   "metadata": {},
   "source": [
    "Following the derivation of [arXiv:1109.6887](https://arxiv.org/abs/1109.6887), the average survival probability for a sequence of length $m$ is given by\n",
    "$$\n",
    "    \\Pr(\\text{survive} | m; A, B, p) = Ap^m + B,\n",
    "$$\n",
    "where $A$, $B$, and $p$ parameterize the strength of the noise in terms of the initial state $\\rho$, the final measurement $E$, and the average gate fidelity $F(\\Lambda)$ over the noise in each different operation in the Clifford group,\n",
    "$$\n",
    "\\begin{aligned}\n",
    "    p & = \\frac{dF(\\Lambda) - 1}{d - 1} \\\\\n",
    "    A & = \\Tr(E\\Lambda(\\rho - 𝟙 / d)) \\\\\n",
    "    B & = \\Tr(E\\Lambda(𝟙 / d)),\n",
    "\\end{aligned}\n",
    "$$\n",
    "and where $d$ is the dimension of the Hilbert space that our state is defined on ($d = 2$ for a single qubit, as in this case).\n",
    "\n",
    "Effectively, $Ap^m + B$ acts as a model we can use to learn $p$, $A$, and $B$ from the results of measuring random RB sequences.\n",
    "\n",
    "To see how this works, let's use _curve fitting_ to find $p$, $A$, and $B$\n",
    "\n",
    "> **⚠ WARNING**: Curve fitting RB data can introduce some subtle errors into your estimate — we'll see more rigorous ways of learning $p$, $A$, and $B$ later in the sample.\n",
    "\n",
    "We can start by defining a Q# operation that runs an entire nonadaptive RB experiment."
   ]
  },
  {
   "cell_type": "code",
   "execution_count": 27,
   "metadata": {},
   "outputs": [],
   "source": [
    "%%qsharp\n",
    "open Microsoft.Quantum.Convert;\n",
    "\n",
    "operation RunRBExperiment(sequenceLengths : Int[], nSequencesPerLength : Int) : Double[] {\n",
    "    mutable results = [];\n",
    "    for length in sequenceLengths {\n",
    "        let survivalAtLength = MeasureSingleQubitRBSequenceLength(length, nSequencesPerLength);\n",
    "        set results += [IntAsDouble(survivalAtLength) / IntAsDouble(nSequencesPerLength)];\n",
    "    }\n",
    "    return results;\n",
    "}"
   ]
  },
  {
   "cell_type": "code",
   "execution_count": 28,
   "metadata": {},
   "outputs": [],
   "source": [
    "est_pr_survival = RunRBExperiment.simulate_noise(sequenceLengths=seq_lens, nSequencesPerLength=200)"
   ]
  },
  {
   "cell_type": "code",
   "execution_count": 29,
   "metadata": {},
   "outputs": [
    {
     "data": {
      "text/plain": [
       "Text(0, 0.5, 'Estimated survival probability')"
      ]
     },
     "execution_count": 29,
     "metadata": {},
     "output_type": "execute_result"
    },
    {
     "data": {
      "image/png": "[encoded data removed]",
      "text/plain": [
       "<Figure size 432x288 with 1 Axes>"
      ]
     },
     "metadata": {
      "needs_background": "light"
     },
     "output_type": "display_data"
    }
   ],
   "source": [
    "plt.plot(seq_lens, est_pr_survival, 'x')\n",
    "plt.ylim(0, 1)\n",
    "plt.xlabel('Sequence length')\n",
    "plt.ylabel('Estimated survival probability')"
   ]
  },
  {
   "cell_type": "markdown",
   "metadata": {},
   "source": [
    "Once we have these results, we can use the `curve_fit` function to roughly estimate $p$, $A$, and $B$."
   ]
  },
  {
   "cell_type": "code",
   "execution_count": 30,
   "metadata": {},
   "outputs": [],
   "source": [
    "from scipy.optimize import curve_fit"
   ]
  },
  {
   "cell_type": "code",
   "execution_count": 31,
   "metadata": {},
   "outputs": [],
   "source": [
    "model = (lambda m, p, A, B: A * p**m + B)\n",
    "p_opt, p_cov = curve_fit(\n",
    "    model,\n",
    "    seq_lens,\n",
    "    est_pr_survival,\n",
    "    [0.95, 0.5, 0.5]\n",
    ")"
   ]
  },
  {
   "cell_type": "code",
   "execution_count": 32,
   "metadata": {},
   "outputs": [
    {
     "data": {
      "text/plain": [
       "array([0.96854501, 0.52046551, 0.4814992 ])"
      ]
     },
     "execution_count": 32,
     "metadata": {},
     "output_type": "execute_result"
    }
   ],
   "source": [
    "p_opt"
   ]
  },
  {
   "cell_type": "code",
   "execution_count": 33,
   "metadata": {},
   "outputs": [
    {
     "data": {
      "text/plain": [
       "<matplotlib.legend.Legend at 0x1a2209d9fa0>"
      ]
     },
     "execution_count": 33,
     "metadata": {},
     "output_type": "execute_result"
    },
    {
     "data": {
      "image/png": "[encoded data removed]",
      "text/plain": [
       "<Figure size 432x288 with 1 Axes>"
      ]
     },
     "metadata": {
      "needs_background": "light"
     },
     "output_type": "display_data"
    }
   ],
   "source": [
    "plt.plot(seq_lens, est_pr_survival, 'x', label='Measured')\n",
    "plt.plot(seq_lens, model(seq_lens, *p_opt), label='Curve fit')\n",
    "plt.plot()\n",
    "plt.ylim(0, 1)\n",
    "plt.xlabel('Sequence length')\n",
    "plt.ylabel('Estimated survival probability')\n",
    "plt.legend()"
   ]
  },
  {
   "cell_type": "markdown",
   "metadata": {},
   "source": [
    "While this gives us qualitative agreement with our RB data, there are two problems left by using curve fitting:\n",
    "\n",
    "- The curve that best minimizes residual errors may or may not be the curve that gives us the most accurate value for $p$.\n",
    "- Because all estimation is done in post-processing, we cannot use measurements online to choose ideal sequence lengths."
   ]
  },
  {
   "cell_type": "markdown",
   "metadata": {},
   "source": [
    "Thankfully, we can use Q# to solve both of these problems."
   ]
  },
  {
   "cell_type": "markdown",
   "metadata": {},
   "source": [
    "### Particle filtering"
   ]
  },
  {
   "cell_type": "markdown",
   "metadata": {},
   "source": [
    "First, let's see how we can improve our estimation given RB results. Essentially, curve fitting answers the question of what parameters to a model minimize the distance between the model and the observed data (in particular, where \"distance\" is formalised as \"mean squared error\"). This is a subtlely different question than that of what parameters minimize the average error with respect to the true parameters; the former is concerned with distance between datasets, while the latter is concerned with the distance between model parameters.\n",
    "\n",
    "These two questions coincide when every data point follows the same normal distribution (homoskedastic normally distributed errors), but since that does not hold in randomized benchmarking, we'll turn to Bayesian inference instead. In particular, we use a technique known as _particle filtering_, where each different hypothesis about $p$, $A$, and $B$ is represented by a weight $w_i$ associated with that hypothesis,\n",
    "$$\n",
    "    \\Pr(p, A, B) \\approx \\sum_i w_i \\delta(p - p_i) \\delta(A - A_i) \\delta(B - B_i).\n",
    "$$\n",
    "This allows us to write down everything we currently know about our parameters in terms of a list $\\{(w_i, p_i, A_i, B_i)\\}_{i=0}^{N - 1}$.\n",
    "\n",
    "Using the QInfer library to implement particle filtering, we can go on and analyze the results above."
   ]
  },
  {
   "cell_type": "code",
   "execution_count": 34,
   "metadata": {},
   "outputs": [],
   "source": [
    "import pandas as pd"
   ]
  },
  {
   "cell_type": "code",
   "execution_count": 35,
   "metadata": {},
   "outputs": [],
   "source": [
    "df = pd.DataFrame({'m': seq_lens, 'counts': 100 * np.array(est_pr_survival), 'n_shots': 100, 'interleaved': False})"
   ]
  },
  {
   "cell_type": "code",
   "execution_count": 36,
   "metadata": {},
   "outputs": [
    {
     "data": {
      "text/plain": [
       "(array([0.96547397, 0.47530413, 0.49100553]),\n",
       " array([[ 4.06717136e-05,  9.36237953e-05, -9.99758858e-05],\n",
       "        [ 9.36237953e-05,  9.28988116e-04, -6.22238620e-04],\n",
       "        [-9.99758858e-05, -6.22238620e-04,  5.96174614e-04]]))"
      ]
     },
     "execution_count": 36,
     "metadata": {},
     "output_type": "execute_result"
    }
   ],
   "source": [
    "est, cov, extra = qi.simple_est_rb(data=df.to_records(), return_all=True)\n",
    "est, cov"
   ]
  },
  {
   "cell_type": "markdown",
   "metadata": {},
   "source": [
    "Using the data we get back from QInfer, we can plot our uncertianty about $p$:"
   ]
  },
  {
   "cell_type": "code",
   "execution_count": 37,
   "metadata": {},
   "outputs": [
    {
     "data": {
      "text/plain": [
       "[<matplotlib.lines.Line2D at 0x1a220d88640>]"
      ]
     },
     "execution_count": 37,
     "metadata": {},
     "output_type": "execute_result"
    },
    {
     "data": {
      "image/png": "[encoded data removed]",
      "text/plain": [
       "<Figure size 432x288 with 1 Axes>"
      ]
     },
     "metadata": {
      "needs_background": "light"
     },
     "output_type": "display_data"
    }
   ],
   "source": [
    "extra['updater'].plot_posterior_marginal(idx_param=0)"
   ]
  },
  {
   "cell_type": "markdown",
   "metadata": {},
   "source": [
    "Because the particle filter approximation captures our entire state of knowledge about $p$, we can even use that knowledge to make adaptive decisions about what sequence lengths to measure. As shown in [arXiv:1404.5275](https://arxiv.org/abs/1404.5275), the optimal sequence length to measure is approximately $m = 1 / (1 - F)$. To use that with a statistical inference engine written in Python, though, we'd need to make a round trip back and forth between our quantum device and our Python host with every single measurement — this is clearly not practical in general. Fortunately, the particle filtering algorithm is simple enough we can actually write it directly in Q#!"
   ]
  },
  {
   "cell_type": "markdown",
   "metadata": {},
   "source": [
    "### Adaptive sequence lengths in Q\\#"
   ]
  },
  {
   "cell_type": "markdown",
   "metadata": {},
   "source": [
    "In order to perform the statistical inference we need to choose sequence lenghts adaptively, we need to define our RB model in terms of Q# functions:"
   ]
  },
  {
   "cell_type": "code",
   "execution_count": 38,
   "metadata": {},
   "outputs": [],
   "source": [
    "%%qsharp\n",
    "\n",
    "function RBLikelihood(datum : Result, modelparams : Double[], seqLength : Int) : Double {\n",
    "    let p = modelparams[0];\n",
    "    let A = modelparams[1];\n",
    "    let B = modelparams[2];\n",
    "    let pr0 = A * p^IntAsDouble(seqLength) + B;\n",
    "    return datum == Zero ? pr0 | 1.0 - pr0;\n",
    "}\n",
    "\n",
    "function IsRbModelValid(modelparams : Double[]) : Bool {\n",
    "    let p = modelparams[0];\n",
    "    let A = modelparams[1];\n",
    "    let B = modelparams[2];\n",
    "    \n",
    "    return 0.0 <= p and\n",
    "            p <= 1.0 and\n",
    "            0.0 <= A and\n",
    "            A <= 1.0 and\n",
    "            0.0 <= B and\n",
    "            B <= 1.0 and\n",
    "            A + B <= 1.0 and\n",
    "            A * p + B <= 1.0;\n",
    "}\n",
    "\n",
    "function RBModel()\n",
    ": (\n",
    "    ((Result, Double[], Int) -> Double),\n",
    "    (Double[] -> Bool)\n",
    ") {\n",
    "    return (RBLikelihood, IsRbModelValid);\n",
    "}"
   ]
  },
  {
   "cell_type": "markdown",
   "metadata": {},
   "source": [
    "Next, we define our prior distribution over $p$, $A$, and $B$, representing what we know about our system before we start. Here, we'll assume that $p \\ge 90\\%$, as we probably think our device has small enough noise for RB to be interesting in the first place!"
   ]
  },
  {
   "cell_type": "code",
   "execution_count": 39,
   "metadata": {},
   "outputs": [],
   "source": [
    "%%qsharp\n",
    "open Microsoft.Quantum.Math;\n",
    "\n",
    "// We'll need to open the namespace containing functions and operations defined locally in this sample.\n",
    "// For details on how the particle filtering algorithm is implemented in Q#,\n",
    "// see Inference.qs and Math.qs in this folder.\n",
    "open Microsoft.Quantum.Samples;\n",
    "\n",
    "operation DrawFromPrior() : Double[] {\n",
    "    mutable model = [0.0, 0.0, 0.0];\n",
    "    let dist = StandardNormalDistribution();\n",
    "\n",
    "    repeat {\n",
    "        // Assume p is at least 90%.\n",
    "        let p = DrawRandomDouble(0.9, 1.0);\n",
    "        let A = 0.5 + Sqrt(0.1^2.0) * dist::Sample();\n",
    "        let B = 0.5 + Sqrt(0.1^2.0) * dist::Sample();\n",
    "\n",
    "        set model = [p, A, B];\n",
    "    }\n",
    "    until IsRbModelValid(model);\n",
    "\n",
    "    return model;\n",
    "}\n",
    "\n",
    "operation DrawInitialPrior(nParticles : Int) : SmcApproximation {\n",
    "    return SmcApproximation(\n",
    "        DrawMany(DrawFromPrior, nParticles, ()),\n",
    "        ConstantArray(nParticles, 1.0 / IntAsDouble(nParticles))\n",
    "    );\n",
    "}"
   ]
  },
  {
   "cell_type": "markdown",
   "metadata": {},
   "source": [
    "Once we have our RB model defined, we can use it to interactively estimate $p$, $A$, and $B$ and decide sequence lengths  on-the-fly."
   ]
  },
  {
   "cell_type": "code",
   "execution_count": 40,
   "metadata": {},
   "outputs": [],
   "source": [
    "%%qsharp\n",
    "open Microsoft.Quantum.Samples;\n",
    "\n",
    "operation RunAdaptiveRBExperiment(nParticles : Int, nShots : Int) : (Double[], Double[][]) {\n",
    "    let dim = 2.0; // We're  working with a single qubit, so 𝑑 = 2.\n",
    "\n",
    "    Message(\"starting with initial prior...\");\n",
    "    mutable dist = DrawInitialPrior(nParticles);\n",
    "    Message(\"...done.\");\n",
    "\n",
    "    let model = RBModel();\n",
    "    let options = DefaultSmcOptions();\n",
    "\n",
    "    for idxShot in 1..nShots {\n",
    "        Message($\"Starting shot {idxShot}...\");\n",
    "        let currentMean = Mean(dist);\n",
    "        let estF = 1.0 - (1.0 - currentMean[0]) * (dim - 1.0) / dim;\n",
    "        let seqLength = Ceiling(1.0 / (1.0 - estF));\n",
    "        let survival = MeasureSingleQubitRBSequence(seqLength);\n",
    "        Message($\"Survival at length {seqLength}: {survival}\");\n",
    "        set dist = Update(dist, survival, seqLength, model, options);\n",
    "    }\n",
    "\n",
    "    return (Mean(dist), Cov(dist));\n",
    "}"
   ]
  },
  {
   "cell_type": "code",
   "execution_count": 41,
   "metadata": {},
   "outputs": [
    {
     "name": "stdout",
     "output_type": "stream",
     "text": [
      "starting with initial prior...\n",
      "...done.\n",
      "Starting shot 1...\n",
      "Survival at length 41: Zero\n",
      "Starting shot 2...\n",
      "Survival at length 45: Zero\n",
      "Starting shot 3...\n",
      "Survival at length 51: Zero\n",
      "Starting shot 4...\n",
      "Survival at length 60: Zero\n",
      "About to resample...\n",
      "Starting shot 5...\n",
      "Survival at length 70: One\n",
      "Starting shot 6...\n",
      "Survival at length 55: One\n",
      "Starting shot 7...\n",
      "Survival at length 47: Zero\n",
      "Starting shot 8...\n",
      "Survival at length 51: Zero\n",
      "Starting shot 9...\n",
      "Survival at length 57: Zero\n",
      "Starting shot 10...\n",
      "Survival at length 64: Zero\n",
      "Starting shot 11...\n",
      "Survival at length 72: Zero\n",
      "Starting shot 12...\n",
      "Survival at length 81: One\n",
      "Starting shot 13...\n",
      "Survival at length 67: One\n",
      "Starting shot 14...\n",
      "Survival at length 58: One\n",
      "Starting shot 15...\n",
      "Survival at length 51: One\n",
      "Starting shot 16...\n",
      "Survival at length 46: Zero\n",
      "Starting shot 17...\n",
      "Survival at length 50: Zero\n",
      "Starting shot 18...\n",
      "Survival at length 53: One\n",
      "Starting shot 19...\n",
      "Survival at length 48: Zero\n",
      "Starting shot 20...\n",
      "Survival at length 52: One\n",
      "Starting shot 21...\n",
      "Survival at length 47: Zero\n",
      "Starting shot 22...\n",
      "Survival at length 50: Zero\n",
      "Starting shot 23...\n",
      "Survival at length 54: Zero\n",
      "Starting shot 24...\n",
      "Survival at length 57: Zero\n",
      "Starting shot 25...\n",
      "Survival at length 61: Zero\n",
      "Starting shot 26...\n",
      "Survival at length 65: Zero\n",
      "Starting shot 27...\n",
      "Survival at length 69: Zero\n",
      "Starting shot 28...\n",
      "Survival at length 74: One\n",
      "Starting shot 29...\n",
      "Survival at length 68: Zero\n",
      "Starting shot 30...\n",
      "Survival at length 72: One\n",
      "Starting shot 31...\n",
      "Survival at length 66: Zero\n",
      "Starting shot 32...\n",
      "Survival at length 70: One\n",
      "Starting shot 33...\n",
      "Survival at length 64: Zero\n",
      "Starting shot 34...\n",
      "Survival at length 68: Zero\n",
      "Starting shot 35...\n",
      "Survival at length 72: Zero\n",
      "Starting shot 36...\n",
      "Survival at length 76: One\n",
      "Starting shot 37...\n",
      "Survival at length 70: One\n",
      "Starting shot 38...\n",
      "Survival at length 65: Zero\n",
      "Starting shot 39...\n",
      "Survival at length 69: Zero\n",
      "Starting shot 40...\n",
      "Survival at length 72: Zero\n",
      "Starting shot 41...\n",
      "Survival at length 76: One\n",
      "Starting shot 42...\n",
      "Survival at length 71: One\n",
      "Starting shot 43...\n",
      "Survival at length 66: Zero\n",
      "Starting shot 44...\n",
      "Survival at length 69: Zero\n",
      "Starting shot 45...\n",
      "Survival at length 73: Zero\n",
      "Starting shot 46...\n",
      "Survival at length 76: One\n",
      "Starting shot 47...\n",
      "Survival at length 71: One\n",
      "Starting shot 48...\n",
      "Survival at length 67: One\n",
      "Starting shot 49...\n",
      "Survival at length 64: Zero\n",
      "Starting shot 50...\n",
      "Survival at length 66: Zero\n",
      "Starting shot 51...\n",
      "Survival at length 69: Zero\n",
      "Starting shot 52...\n",
      "Survival at length 72: One\n",
      "Starting shot 53...\n",
      "Survival at length 68: Zero\n",
      "About to resample...\n",
      "Starting shot 54...\n",
      "Survival at length 70: Zero\n",
      "Starting shot 55...\n",
      "Survival at length 73: Zero\n",
      "Starting shot 56...\n",
      "Survival at length 75: Zero\n",
      "Starting shot 57...\n",
      "Survival at length 78: One\n",
      "Starting shot 58...\n",
      "Survival at length 74: Zero\n",
      "Starting shot 59...\n",
      "Survival at length 77: Zero\n",
      "Starting shot 60...\n",
      "Survival at length 79: One\n",
      "Starting shot 61...\n",
      "Survival at length 76: One\n",
      "Starting shot 62...\n",
      "Survival at length 73: One\n",
      "Starting shot 63...\n",
      "Survival at length 70: Zero\n",
      "Starting shot 64...\n",
      "Survival at length 72: One\n",
      "Starting shot 65...\n",
      "Survival at length 69: One\n",
      "Starting shot 66...\n",
      "Survival at length 66: One\n",
      "Starting shot 67...\n",
      "Survival at length 63: Zero\n",
      "Starting shot 68...\n",
      "Survival at length 65: Zero\n",
      "Starting shot 69...\n",
      "Survival at length 67: One\n",
      "Starting shot 70...\n",
      "Survival at length 65: One\n",
      "Starting shot 71...\n",
      "Survival at length 62: One\n",
      "Starting shot 72...\n",
      "Survival at length 59: Zero\n",
      "Starting shot 73...\n",
      "Survival at length 61: Zero\n",
      "Starting shot 74...\n",
      "Survival at length 63: One\n",
      "Starting shot 75...\n",
      "Survival at length 61: Zero\n",
      "Starting shot 76...\n",
      "Survival at length 63: Zero\n",
      "Starting shot 77...\n",
      "Survival at length 65: One\n",
      "Starting shot 78...\n",
      "Survival at length 62: Zero\n",
      "Starting shot 79...\n",
      "Survival at length 64: Zero\n",
      "Starting shot 80...\n",
      "Survival at length 66: One\n",
      "Starting shot 81...\n",
      "Survival at length 63: One\n",
      "Starting shot 82...\n",
      "Survival at length 61: One\n",
      "Starting shot 83...\n",
      "Survival at length 59: Zero\n",
      "Starting shot 84...\n",
      "Survival at length 60: One\n",
      "Starting shot 85...\n",
      "Survival at length 58: One\n",
      "Starting shot 86...\n",
      "Survival at length 56: One\n",
      "Starting shot 87...\n",
      "Survival at length 53: Zero\n",
      "Starting shot 88...\n",
      "Survival at length 55: One\n",
      "Starting shot 89...\n",
      "Survival at length 53: Zero\n",
      "Starting shot 90...\n",
      "Survival at length 55: Zero\n",
      "Starting shot 91...\n",
      "Survival at length 56: One\n",
      "Starting shot 92...\n",
      "Survival at length 54: One\n",
      "Starting shot 93...\n",
      "Survival at length 52: Zero\n",
      "Starting shot 94...\n",
      "Survival at length 54: Zero\n",
      "Starting shot 95...\n",
      "Survival at length 55: Zero\n",
      "Starting shot 96...\n",
      "Survival at length 57: One\n",
      "Starting shot 97...\n",
      "Survival at length 55: One\n",
      "Starting shot 98...\n",
      "Survival at length 53: One\n",
      "About to resample...\n",
      "Starting shot 99...\n",
      "Survival at length 51: One\n",
      "Starting shot 100...\n",
      "Survival at length 49: Zero\n"
     ]
    }
   ],
   "source": [
    "est_online, cov_online = RunAdaptiveRBExperiment.simulate_noise(nParticles=6000, nShots=100)"
   ]
  },
  {
   "cell_type": "code",
   "execution_count": 42,
   "metadata": {},
   "outputs": [],
   "source": [
    "from scipy.linalg import sqrtm\n",
    "est_err = sqrtm(cov_online)[0, 0]"
   ]
  },
  {
   "cell_type": "code",
   "execution_count": 43,
   "metadata": {},
   "outputs": [
    {
     "name": "stdout",
     "output_type": "stream",
     "text": [
      "𝑝 = 0.9601871511798478 ± 0.02050192476404032 (online, 100 shots)\n",
      "𝑝 = 0.9654739702794455 ± 0.005356729111985975 (offline, 2100 shots)\n"
     ]
    }
   ],
   "source": [
    "print(f\"𝑝 = {est_online[0]} ± {est_err} (online, 100 shots)\")\n",
    "print(f\"𝑝 = {est[0]} ± {sqrtm(cov)[0, 0]} (offline, {100 * len(seq_lens)} shots)\")"
   ]
  },
  {
   "cell_type": "markdown",
   "metadata": {},
   "source": [
    "By implementing our sequence generation and statistical inference in Q#, we were able to learn our RB parameters using only 100 shots nearly as well as we did with 2100 shots when we chose sequence lengths non-adaptively."
   ]
  },
  {
   "cell_type": "markdown",
   "metadata": {},
   "source": [
    "## Epilogue"
   ]
  },
  {
   "cell_type": "code",
   "execution_count": null,
   "metadata": {},
   "outputs": [],
   "source": [
    "for component, version in sorted(qsharp.component_versions().items(), key=lambda x: x[0]):\n",
    "    print(f\"{component:20}{version}\")"
   ]
  },
  {
   "cell_type": "code",
   "execution_count": null,
   "metadata": {},
   "outputs": [],
   "source": [
    "import sys\n",
    "print(sys.version)"
   ]
  },
  {
   "cell_type": "code",
   "execution_count": null,
   "metadata": {},
   "outputs": [],
   "source": []
  }
 ],
 "metadata": {
  "kernelspec": {
   "display_name": "Python 3 (ipykernel)",
   "language": "python",
   "name": "python3"
  },
  "language_info": {
   "codemirror_mode": {
    "name": "ipython",
    "version": 3
   },
   "file_extension": ".py",
   "mimetype": "text/x-python",
   "name": "python",
   "nbconvert_exporter": "python",
   "pygments_lexer": "ipython3",
   "version": "3.8.12"
  }
 },
 "nbformat": 4,
 "nbformat_minor": 2
}
